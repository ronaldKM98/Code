{
  "nbformat": 4,
  "nbformat_minor": 0,
  "metadata": {
    "colab": {
      "name": "LogisticRegression.ipynb",
      "version": "0.3.2",
      "provenance": [],
      "private_outputs": true,
      "collapsed_sections": [],
      "include_colab_link": true
    },
    "kernelspec": {
      "name": "python3",
      "display_name": "Python 3"
    },
    "accelerator": "GPU"
  },
  "cells": [
    {
      "cell_type": "markdown",
      "metadata": {
        "id": "view-in-github",
        "colab_type": "text"
      },
      "source": [
        "<a href=\"https://colab.research.google.com/github/ronaldKM98/Code/blob/master/LogisticRegression.ipynb\" target=\"_parent\"><img src=\"https://colab.research.google.com/assets/colab-badge.svg\" alt=\"Open In Colab\"/></a>"
      ]
    },
    {
      "metadata": {
        "id": "tC-it1En4UXi",
        "colab_type": "text"
      },
      "cell_type": "markdown",
      "source": [
        "### The Iris Dataset\n",
        "Clasificación usando **The Iris Dataset**, el cual consiste en datos para 3 tipos diferentes de iris (Setosa, Versicolour y Virginica). Cuenta con 4 características (largo y ancho del sépalo y del pétalo) y 150 registros."
      ]
    },
    {
      "metadata": {
        "id": "E_Zf_gTQQbd7",
        "colab_type": "text"
      },
      "cell_type": "markdown",
      "source": [
        "**Clasificador**"
      ]
    },
    {
      "metadata": {
        "id": "qid8hadBH2vU",
        "colab_type": "code",
        "colab": {}
      },
      "cell_type": "code",
      "source": [
        "def classify(features_train, labels_train):\n",
        "    from sklearn import linear_model\n",
        "    clf = linear_model.LogisticRegression()\n",
        "    clf.fit(features_train, labels_train)\n",
        "    return clf"
      ],
      "execution_count": 0,
      "outputs": []
    },
    {
      "metadata": {
        "id": "PQxkjet8QV9-",
        "colab_type": "text"
      },
      "cell_type": "markdown",
      "source": [
        "**Visualizador de resultados**"
      ]
    },
    {
      "metadata": {
        "id": "l8ihB2wuPjlv",
        "colab_type": "code",
        "colab": {}
      },
      "cell_type": "code",
      "source": [
        "import matplotlib.pyplot as plt\n",
        "import pylab as pl\n",
        "import numpy as np\n",
        "\n",
        "def plot(model, x, y, feature_x_min, feature_x_max, feature_y_min, feature_y_max, h):  \n",
        "  # Plot the decision boundary.\n",
        "  feature_xx, feature_yy = np.meshgrid(np.arange(feature_x_min, feature_x_max, h), \n",
        "                       np.arange(feature_y_min, feature_y_max, h))\n",
        "\n",
        "  feature_data = np.c_[feature_xx.ravel(), feature_yy.ravel()]\n",
        "\n",
        "  Z = model.predict(feature_data)\n",
        "  \n",
        "  # Put the result into a color plot\n",
        "  plt.figure()\n",
        "  Z = Z.reshape(feature_xx.shape)\n",
        "  plt.xlim(feature_xx.min(), feature_xx.max())\n",
        "  plt.ylim(feature_yy.min(), feature_yy.max())\n",
        "  \n",
        "  plt.pcolormesh(feature_xx, feature_yy, Z, cmap=pl.cm.seismic)\n",
        "  \n",
        "  #Plot the test points in their respective classes\n",
        "  class0_width = [x[ii, 0] for ii in range (0, len(x)) if y[ii] == 0]\n",
        "  class0_length = [x[ii, 1] for ii in range (0, len(x)) if y[ii] == 0]\n",
        "  \n",
        "  class1_width = [x[ii, 0] for ii in range (0, len(x)) if y[ii] == 1]\n",
        "  class1_length = [x[ii, 1] for ii in range (0, len(x)) if y[ii] == 1]\n",
        "  \n",
        "  class2_width = [x[ii, 0] for ii in range (0, len(x)) if y[ii] == 2]\n",
        "  class2_length = [x[ii, 1] for ii in range (0, len(x)) if y[ii] == 2]\n",
        "  \n",
        "  plt.scatter(class0_width, class0_length, color = \"b\", label=\"Iris Setosa\")\n",
        "  plt.scatter(class1_width, class1_length, color = \"g\", label=\"Iris Versicolour\")\n",
        "  plt.scatter(class2_width, class2_length, color = \"r\", label=\"Iris Virginica\")\n",
        "  \n",
        "  plt.legend()\n",
        "  plt.xlabel(\"Largo\")\n",
        "  plt.ylabel(\"Ancho\")\n",
        "  \n",
        "  \n",
        "  \n",
        "  "
      ],
      "execution_count": 0,
      "outputs": []
    },
    {
      "metadata": {
        "id": "NzMTDpigkQLm",
        "colab_type": "code",
        "colab": {}
      },
      "cell_type": "code",
      "source": [
        ""
      ],
      "execution_count": 0,
      "outputs": []
    },
    {
      "metadata": {
        "id": "d639Jxs_QeLa",
        "colab_type": "text"
      },
      "cell_type": "markdown",
      "source": [
        "**Programa Principal**"
      ]
    },
    {
      "metadata": {
        "id": "EVYU8GXB4VuJ",
        "colab_type": "code",
        "colab": {}
      },
      "cell_type": "code",
      "source": [
        "from sklearn import datasets\n",
        "from sklearn.model_selection import train_test_split\n",
        "import matplotlib.pyplot as plt\n",
        "\n",
        "iris = datasets.load_iris()\n",
        "sepal = iris.data[:, :2]\n",
        "petal = iris.data[:, 2:]\n",
        "y = iris.target\n",
        "data = iris.data\n",
        "\n",
        "# Partition Data sets train/test\n",
        "sepal_x_train, sepal_x_test, sepal_y_train, sepal_y_test = train_test_split(sepal, y, test_size=0.3)\n",
        "petal_x_train, petal_x_test, petal_y_train, petal_y_test = train_test_split(petal, y, test_size=0.3)\n",
        "\n",
        "#Train\n",
        "sepal_model = classify(sepal_x_train, sepal_y_train)\n",
        "petal_model = classify(petal_x_train, petal_y_train)\n",
        "\n",
        "#Accuracy\n",
        "sepal_score = sepal_model.score(sepal_x_test, sepal_y_test)\n",
        "petal_score = petal_model.score(petal_x_test, petal_y_test)\n",
        "print('Sepal Score', sepal_score)\n",
        "print('Petal Score', petal_score)\n",
        "\n",
        "#Plot\n",
        "plt.figure(1)\n",
        "plt.scatter(sepal[:, 0], sepal[:, 1], c=y, cmap=plt.cm.Set1, edgecolor='k')\n",
        "plt.xlabel('Largo del sépalo')\n",
        "plt.ylabel('Ancho del sépalo')\n",
        "\n",
        "plt.figure(2)\n",
        "plt.scatter(petal[:, 0], petal[:, 1], c=y, cmap=plt.cm.Set1, edgecolor='k')\n",
        "plt.xlabel('Largo del pétalo')\n",
        "plt.ylabel('Ancho del pétalo')\n",
        "\n",
        "min_width = sepal[:, 0].min()\n",
        "max_width = sepal[:, 0].max()\n",
        "min_length = sepal[:, 1].min()\n",
        "max_length = sepal[:, 1].max()\n",
        "plot(sepal_model, sepal_x_test, sepal_y_test, min_width, max_width, min_length, max_length, h=0.01)\n",
        "\n",
        "min_width = petal[:, 0].min()\n",
        "max_width = petal[:, 0].max()\n",
        "min_length = petal[:, 1].min()\n",
        "max_length = petal[:, 1].max()\n",
        "plot(petal_model, petal_x_test, petal_y_test, min_width, max_width, min_length, max_length, h=0.01)\n",
        "\n",
        "\n"
      ],
      "execution_count": 0,
      "outputs": []
    },
    {
      "metadata": {
        "id": "vr-jw_ek4bGl",
        "colab_type": "code",
        "colab": {}
      },
      "cell_type": "code",
      "source": [
        ""
      ],
      "execution_count": 0,
      "outputs": []
    }
  ]
}