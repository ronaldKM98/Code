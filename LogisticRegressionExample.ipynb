{
  "nbformat": 4,
  "nbformat_minor": 0,
  "metadata": {
    "colab": {
      "name": "Copia de Clasificacion2.ipynb",
      "version": "0.3.2",
      "provenance": [],
      "private_outputs": true,
      "include_colab_link": true
    },
    "kernelspec": {
      "name": "python3",
      "display_name": "Python 3"
    }
  },
  "cells": [
    {
      "cell_type": "markdown",
      "metadata": {
        "id": "view-in-github",
        "colab_type": "text"
      },
      "source": [
        "<a href=\"https://colab.research.google.com/github/ronaldKM98/Code/blob/master/LogisticRegressionExample.ipynb\" target=\"_parent\"><img src=\"https://colab.research.google.com/assets/colab-badge.svg\" alt=\"Open In Colab\"/></a>"
      ]
    },
    {
      "metadata": {
        "id": "tC-it1En4UXi",
        "colab_type": "text"
      },
      "cell_type": "markdown",
      "source": [
        "### The Iris Dataset\n",
        "Clasificación usando **The Iris Dataset**, el cual consiste en datos para 3 tipos diferentes de iris (Setosa, Versicolour y Virginica). Cuenta con 4 características (largo y ancho del sépalo y del pétalo) y 150 registros."
      ]
    },
    {
      "metadata": {
        "id": "E_Zf_gTQQbd7",
        "colab_type": "text"
      },
      "cell_type": "markdown",
      "source": [
        "**Clasificador**"
      ]
    },
    {
      "metadata": {
        "id": "qid8hadBH2vU",
        "colab_type": "code",
        "colab": {}
      },
      "cell_type": "code",
      "source": [
        "def classify(features_train, labels_train):\n",
        "    from sklearn import linear_model\n",
        "    clf = linear_model.LogisticRegression()\n",
        "    clf.fit(features_train, labels_train)\n",
        "    return clf"
      ],
      "execution_count": 0,
      "outputs": []
    },
    {
      "metadata": {
        "id": "PQxkjet8QV9-",
        "colab_type": "text"
      },
      "cell_type": "markdown",
      "source": [
        "**Visualizador de resultados**"
      ]
    },
    {
      "metadata": {
        "id": "l8ihB2wuPjlv",
        "colab_type": "code",
        "colab": {}
      },
      "cell_type": "code",
      "source": [
        "import matplotlib.pyplot as plt\n",
        "import pylab as pl\n",
        "import numpy as np\n",
        "\n",
        "def plot(model, y, x_test, y_test):\n",
        "  plt.figure(1)\n",
        "  plt.scatter(sepal[:, 0], sepal[:, 1], c=y, cmap=plt.cm.Set1, edgecolor='k')\n",
        "  plt.xlabel('Largo del sépalo')\n",
        "  plt.ylabel('Ancho del sépalo')\n",
        "\n",
        "  plt.figure(2)\n",
        "  plt.scatter(petal[:, 0], petal[:, 1], c=y, cmap=plt.cm.Set1, edgecolor='k')\n",
        "  plt.xlabel('Largo del pétalo')\n",
        "  plt.ylabel('Ancho del pétalo')\n",
        "  \n",
        "  #Plot results\n",
        "  sepal_x_min = 4.0; sepal_x_max = 8.0\n",
        "  sepal_y_min = 2.0; sepal_y_max = 4.5\n",
        "  \n",
        "  petal_x_min = 0.0; petal_x_max = 7.0\n",
        "  petal_y_min = 0.0; petal_y_max = 2.5\n",
        "  \n",
        "  # Plot the decision boundary. For that, we will assign a color to each\n",
        "  # point in the mesh [x_min, m_max]x[y_min, y_max].\n",
        "  h = .1  # step size in the mesh\n",
        "  sepal_xx, sepal_yy = np.meshgrid(np.arange(sepal_x_min, sepal_x_max, h), \n",
        "                       np.arange(sepal_y_min, sepal_y_max, h))\n",
        "                                   \n",
        "  petal_xx, petal_yy = np.meshgrid(np.arange(petal_x_min, petal_x_max, h), \n",
        "                       np.arange(petal_y_min, petal_y_max, h))\n",
        "\n",
        "  sepal_data = np.c_[sepal_xx.ravel(), sepal_yy.ravel()]\n",
        "  petal_data = np.c_[petal_xx.ravel(), petal_yy.ravel()]\n",
        "\n",
        "  sepal_Z = model.predict(sepal_data)\n",
        "  petal_Z = model.predict(petal_data)\n",
        "  \n",
        "  # Put the sepal's result into a color plot\n",
        "  plt.figure(3)\n",
        "  sepal_Z = sepal_Z.reshape(sepal_xx.shape)\n",
        "  plt.xlim(sepal_xx.min(), sepal_xx.max())\n",
        "  plt.ylim(sepal_yy.min(), sepal_yy.max())\n",
        "  \n",
        "  plt.pcolormesh(sepal_xx, sepal_yy, sepal_Z, cmap=pl.cm.seismic)\n",
        "  \n",
        "  # Put the petal's result into a color plot\n",
        "  plt.figure(4)\n",
        "  petal_Z = petal_Z.reshape(petal_xx.shape)\n",
        "  plt.xlim(petal_xx.min(), petal_xx.max())\n",
        "  plt.ylim(petal_yy.min(), petal_yy.max())\n",
        "  \n",
        "  plt.pcolormesh(petal_xx, petal_yy, petal_Z, cmap=pl.cm.seismic)\n",
        "  \n",
        "  \n",
        "  #Plot also the test points\n",
        "  # TO DO\n",
        "  "
      ],
      "execution_count": 0,
      "outputs": []
    },
    {
      "metadata": {
        "id": "d639Jxs_QeLa",
        "colab_type": "text"
      },
      "cell_type": "markdown",
      "source": [
        "**Programa Principal**"
      ]
    },
    {
      "metadata": {
        "id": "EVYU8GXB4VuJ",
        "colab_type": "code",
        "colab": {}
      },
      "cell_type": "code",
      "source": [
        "from sklearn import datasets\n",
        "from sklearn.model_selection import train_test_split\n",
        "\n",
        "iris = datasets.load_iris()\n",
        "sepal = iris.data[:, :2]\n",
        "petal = iris.data[:, 2:]\n",
        "y = iris.target\n",
        "data = iris.data\n",
        "\n",
        "# Partition Data sets train/test\n",
        "sepal_x_train, sepal_x_test, sepal_y_train, sepal_y_test = train_test_split(sepal, y, test_size=0.3)\n",
        "petal_x_train, petal_x_test, petal_y_train, petal_y_test = train_test_split(petal, y, test_size=0.3)\n",
        "\n",
        "#Train\n",
        "sepal_model = classify(sepal_x_train, sepal_y_train)\n",
        "petal_model = classify(petal_x_train, petal_y_train)\n",
        "\n",
        "#Predict\n",
        "sepal_model.predict(sepal_x_test)\n",
        "\n",
        "#Accuracy\n",
        "sepal_score = sepal_model.score(sepal_x_test, sepal_y_test)\n",
        "petal_score = petal_model.score(petal_x_test, petal_y_test)\n",
        "print('Sepal Score', sepal_score)\n",
        "print('Petal Score', petal_score)\n",
        "\n",
        "#Plot\n",
        "plot(sepal_model, y, sepal_x_train, sepal_y_train)\n",
        "\n"
      ],
      "execution_count": 0,
      "outputs": []
    },
    {
      "metadata": {
        "id": "vr-jw_ek4bGl",
        "colab_type": "code",
        "colab": {}
      },
      "cell_type": "code",
      "source": [
        ""
      ],
      "execution_count": 0,
      "outputs": []
    }
  ]
}